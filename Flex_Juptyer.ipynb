{
 "cells": [
  {
   "cell_type": "code",
   "execution_count": null,
   "id": "12c71171",
   "metadata": {},
   "outputs": [],
   "source": [
    "# Running other shell commands with !\n",
    "\n",
    "!pip install --upgrade opentrons\n"
   ]
  },
  {
   "cell_type": "code",
   "execution_count": null,
   "id": "3d37ad15",
   "metadata": {},
   "outputs": [],
   "source": [
    "from opentrons import protocol_api\n",
    "\n",
    "# metadata\n",
    "metadata = {\n",
    "    \"protocolName\": \"TEST\",\n",
    "    \"author\": \"DAF\",\n",
    "    \"description\": \"Trying to use juptyer with the flex\",\n",
    "}\n",
    "\n",
    "# requirements\n",
    "requirements = {\"robotType\": \"Flex\", \"apiLevel\": \"2.24\"}\n"
   ]
  },
  {
   "cell_type": "code",
   "execution_count": null,
   "id": "eb447492",
   "metadata": {},
   "outputs": [],
   "source": [
    "def run(protocol: protocol_api.ProtocolContext):\n",
    "#Load Labware\n",
    "\n",
    "labware_1 = protocol.load_labware(\"opentrons_flex_96_tiprack_adapter\", location=\"A1\")\n",
    "tips = labware_1.load_labware(\"opentrons_flex_96_filtertiprack_1000ul\")\n",
    "tips.set_offset(x=-0.00, y=1.00, z=-0.00)\n",
    "\n",
    "reservoir = protocol.load_labware(\"nest_1_reservoir_290ml\", location=\"B1\")\n",
    "reservoir.set_offset(x=0.00, y=0.00, z=0.00)\n",
    "\n",
    "plate = protocol.load_labware(\"corning_96_wellplate_360ul_flat\", location=\"A2\")\n",
    "plate.set_offset(x=-0.40, y=0.79, z=-0.00)\n",
    "\n",
    "trash = protocol.load_trash_bin(\"A3\")\n",
    "\n",
    "#Load Pipettes\n",
    "pipette = protocol.load_instrument(\n",
    "        instrument_name=\"flex_96channel_1000\", tip_racks=[tips]\n",
    ")\n",
    "\n",
    "\n",
    "\n"
   ]
  },
  {
   "cell_type": "code",
   "execution_count": null,
   "id": "4fc7f0a2",
   "metadata": {},
   "outputs": [],
   "source": [
    "# Pick up tip \n",
    "\n",
    "pipette.pick_up_tip()"
   ]
  },
  {
   "cell_type": "code",
   "execution_count": null,
   "id": "0086962f",
   "metadata": {},
   "outputs": [],
   "source": [
    "# Aspirate from Res\n",
    "pipette.aspirate(volume=100, location=reservoir[\"A1\"])"
   ]
  },
  {
   "cell_type": "code",
   "execution_count": null,
   "id": "52307f0b",
   "metadata": {},
   "outputs": [],
   "source": [
    "# Dispense to plate in first well. 96 head can only access A1 in all labware\n",
    "pipette.dispense(volume=100, location=plate[\"A1\"])"
   ]
  }
 ],
 "metadata": {
  "kernelspec": {
   "display_name": "Python 3",
   "language": "python",
   "name": "python3"
  },
  "language_info": {
   "codemirror_mode": {
    "name": "ipython",
    "version": 3
   },
   "file_extension": ".py",
   "mimetype": "text/x-python",
   "name": "python",
   "nbconvert_exporter": "python",
   "pygments_lexer": "ipython3",
   "version": "3.11.0"
  }
 },
 "nbformat": 4,
 "nbformat_minor": 5
}

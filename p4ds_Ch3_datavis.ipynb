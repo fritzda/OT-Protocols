{
 "cells": [
  {
   "cell_type": "code",
   "execution_count": 2,
   "id": "ffec661a",
   "metadata": {},
   "outputs": [],
   "source": [
    "import pandas as pd   \n",
    "import altair as alt   \n",
    "\n",
    "url = \"https://github.com/byuidatascience/data4python4ds/raw/master/data-raw/mpg/mpg.csv\"\n",
    "mpg = pd.read_csv(url)\n",
    "\n",
    "# %%\n",
    "chart = (alt.Chart(mpg)\n",
    "  .encode(\n",
    "    x='displ', \n",
    "    y='hwy')\n",
    "  .mark_circle()\n",
    ")\n",
    "\n",
    "chart.save(\"altair_viz_1.png\")\n",
    "\n",
    "\n"
   ]
  },
  {
   "cell_type": "markdown",
   "id": "ef8b3987",
   "metadata": {},
   "source": [
    "## Visualizing a graphing template\n",
    "# To make a graph, replace the bracketed sections in the code below with a dataset, a geom function, or a collection of mappings.\n",
    "alt.Chart(<DATA>)  \n",
    ".encode(<ENCODINGS>)\n",
    "<.mark_*()>)\n"
   ]
  },
  {
   "cell_type": "code",
   "execution_count": 8,
   "id": "8e7a22b4",
   "metadata": {},
   "outputs": [
    {
     "data": {
      "text/plain": [
       "manufacturer     object\n",
       "model            object\n",
       "displ           float64\n",
       "year              int64\n",
       "cyl               int64\n",
       "trans            object\n",
       "drv              object\n",
       "cty               int64\n",
       "hwy               int64\n",
       "fl               object\n",
       "class            object\n",
       "dtype: object"
      ]
     },
     "execution_count": 8,
     "metadata": {},
     "output_type": "execute_result"
    }
   ],
   "source": [
    "\n",
    "#Run Chart(mpg).mark_point(). What do you see?\n",
    "\n",
    "chart2 = (alt.Chart(mpg)\n",
    "  .encode(\n",
    "    x='displ', \n",
    "    y='hwy')\n",
    " .mark_point()\n",
    ")\n",
    "\n",
    "chart2.save(\"altair_viz_1.png\")\n",
    "\n",
    "# Hollow circles\n",
    "\n",
    "#How many rows are in mpg? How many columns?\n",
    "mpg.dtypes\n",
    "\n"
   ]
  },
  {
   "cell_type": "code",
   "execution_count": 4,
   "id": "18b54a0e",
   "metadata": {},
   "outputs": [],
   "source": [
    "# Map the color to car class\n",
    "\n",
    "chart3 = (alt.Chart(mpg)\n",
    "  .encode(\n",
    "    x = \"displ\",\n",
    "    y = \"hwy\",\n",
    "    color = \"class\"\n",
    "    )\n",
    "  .mark_circle())\n",
    "\n",
    "chart3.save(\"altair_viz_2.png\")\n"
   ]
  },
  {
   "cell_type": "code",
   "execution_count": null,
   "id": "2334c417",
   "metadata": {},
   "outputs": [],
   "source": [
    "#Map to size or opacity or shape\n",
    "chart = (alt.Chart(mpg)\n",
    "  .encode(\n",
    "    x = \"displ\",\n",
    "    y = \"hwy\",\n",
    "    size = \"class\",\n",
    "    # opacity = \"class\",\n",
    "    # shape= \"class\"\n",
    "    )\n",
    "  .mark_circle())\n",
    "  \n",
    "chart.save(\"altair_viz_3.png\")\n",
    "\n",
    "# Configure encoding manually\n",
    "\n",
    "chart = (alt.Chart(mpg)\n",
    "  .encode(\n",
    "    x = \"displ\",\n",
    "    y = \"hwy\",\n",
    "    color = alt.value(\"blue\")\n",
    "    )\n",
    "  .mark_circle())\n",
    "\n",
    "chart.save(\"screenshots/altair_viz_4.png\")\n"
   ]
  },
  {
   "cell_type": "code",
   "execution_count": null,
   "id": "a223ed86",
   "metadata": {},
   "outputs": [],
   "source": []
  }
 ],
 "metadata": {
  "kernelspec": {
   "display_name": "Python 3",
   "language": "python",
   "name": "python3"
  },
  "language_info": {
   "codemirror_mode": {
    "name": "ipython",
    "version": 3
   },
   "file_extension": ".py",
   "mimetype": "text/x-python",
   "name": "python",
   "nbconvert_exporter": "python",
   "pygments_lexer": "ipython3",
   "version": "3.11.0"
  }
 },
 "nbformat": 4,
 "nbformat_minor": 5
}
